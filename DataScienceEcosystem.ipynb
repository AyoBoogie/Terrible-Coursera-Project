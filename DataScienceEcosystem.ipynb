                           Data Science Tools and Ecosystem
                           
                                     Introduction
     
 Data Science is a multidisciplinary field that uses scientific methods, processes, algorithms, and systems to extract knowledge and insights from structured and unstructured data. It involves various tools for different stages of the data life cycle, from data collection, data analysis, and data visualization. Here are some of the commonly used tools in Data Science:
 
Python: Python is a high-level, interpreted programming language that is widely used in data science. It has a simple syntax which makes it a great language for beginners. Python has numerous libraries such as NumPy, Pandas, and Matplotlib that are used for data manipulation, analysis, and visualization.

R. R is a programming language and software environment for statistical computing and graphics. It is widely used for statistical software development and data analysis. Also common in the medical and government fields of work.

SQL: SQL (Structured Query Language) is a standard language for managing and manipulating databases. It is used to retrieve and manipulate data stored in relational databases.

Jupyter Notebook: Jupyter Notebook is an open-source web application that allows you to create and share documents that contain live code, equations, visualizations, and narrative text.

Tableau: Tableau is a powerful data visualization tool used in the Business Intelligence industry. It helps in simplifying raw data into an easily understandable format.

Apache Hadoop: Apache Hadoop is an open-source software framework used for distributed storage and processing of data set of big data.

TensorFlow: TensorFlow is a free and open-source software library for machine learning and artificial intelligence. It can be used across a rang of tasks but has a particular focus on training and inference of deep neural networks.

Scikit: Scikit-learn is a free software machine learning library for Python. It features various classification, regression, and clustering algorithms, and is designed to interoperate with Pythons numerical and scientific libraries NumPy and SciPy.



                                 Data Science Tools and Ecosystem
                                 
                                 
                     In this notebook, Data Science Tools and Ecosystem are summarized
                     
Some of the popular languages that Data Scientist use are:

1. Python
2. R
3. SQL
4. SCALA
5. JAVA
6. C++


Some of the commonly used libraries used by Data Scientist include:

1. PANDAS
2. NUMPY
3. MATplotlib
4. SEARBORN
5. Sckit-learn
6. Keras


                                Data Science Tools
                                
                                Anaconda
                                Jupyter Notebooks
                                R Studio
                                Spyder
                                Zeppelin
                                
                                
Below are a few examples of evaluating arithmetic expressions in Python



Author Wesley c

